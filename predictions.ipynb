{
 "cells": [
  {
   "cell_type": "code",
   "execution_count": 1,
   "metadata": {},
   "outputs": [],
   "source": [
    "import tensorflow as tf"
   ]
  },
  {
   "cell_type": "markdown",
   "metadata": {},
   "source": [
    "See `tensorflow/examples/speech_commands/label_wav.py`"
   ]
  },
  {
   "cell_type": "code",
   "execution_count": 2,
   "metadata": {},
   "outputs": [],
   "source": [
    "from tensorflow.contrib.framework.python.ops import audio_ops as contrib_audio\n",
    "\n",
    "def load_graph(filename):\n",
    "  \"\"\"Unpersists graph from file as default graph.\"\"\"\n",
    "  with tf.gfile.FastGFile(filename, 'rb') as f:\n",
    "    graph_def = tf.GraphDef()\n",
    "    graph_def.ParseFromString(f.read())\n",
    "    tf.import_graph_def(graph_def, name='')\n",
    "\n",
    "load_graph('frozen_graph.pb')"
   ]
  },
  {
   "cell_type": "code",
   "execution_count": 3,
   "metadata": {},
   "outputs": [],
   "source": [
    "def load_labels(filename):\n",
    "  \"\"\"Read in labels, one label per line.\"\"\"\n",
    "  return [line.rstrip() for line in tf.gfile.GFile(filename)]\n",
    "\n",
    "model_name = 'conv'\n",
    "labels_filename = model_name + '_labels.txt'\n",
    "labels_filepath = 'data/speech_commands_train/' + labels_filename\n",
    "labels = load_labels(labels_filepath)"
   ]
  },
  {
   "cell_type": "code",
   "execution_count": 4,
   "metadata": {},
   "outputs": [],
   "source": [
    "import os\n",
    "\n",
    "def predict(wav_data, sess, labels, input_layer_name='wav_data:0', output_layer_name='labels_softmax:0', num_top_predictions=1):\n",
    "    softmax_tensor = sess.graph.get_tensor_by_name(output_layer_name)\n",
    "    predictions, = sess.run(softmax_tensor, {input_layer_name: wav_data})\n",
    "\n",
    "    top_k = predictions.argsort()[-num_top_predictions:][::-1]\n",
    "    return [(labels[node_id], predictions[node_id]) for node_id in top_k]  # list of (label, score)\n",
    "\n",
    "test_path = 'data/test/audio'\n",
    "\n",
    "rows = []\n",
    "with tf.Session() as sess:\n",
    "    for wav in os.listdir(test_path):\n",
    "        with open(test_path + '/' + wav, 'rb') as wav_file:\n",
    "            wav_data = wav_file.read()\n",
    "            top_prediction = predict(wav_data, sess, labels)[0]\n",
    "            label, score = top_prediction\n",
    "            new_row = [wav, label, score]\n",
    "            rows.append(new_row)"
   ]
  },
  {
   "cell_type": "code",
   "execution_count": 7,
   "metadata": {},
   "outputs": [
    {
     "data": {
      "text/html": [
       "<div>\n",
       "<style>\n",
       "    .dataframe thead tr:only-child th {\n",
       "        text-align: right;\n",
       "    }\n",
       "\n",
       "    .dataframe thead th {\n",
       "        text-align: left;\n",
       "    }\n",
       "\n",
       "    .dataframe tbody tr th {\n",
       "        vertical-align: top;\n",
       "    }\n",
       "</style>\n",
       "<table border=\"1\" class=\"dataframe\">\n",
       "  <thead>\n",
       "    <tr style=\"text-align: right;\">\n",
       "      <th></th>\n",
       "      <th>fname</th>\n",
       "      <th>label</th>\n",
       "      <th>score</th>\n",
       "    </tr>\n",
       "  </thead>\n",
       "  <tbody>\n",
       "    <tr>\n",
       "      <th>0</th>\n",
       "      <td>clip_227de25a2.wav</td>\n",
       "      <td>go</td>\n",
       "      <td>0.545376</td>\n",
       "    </tr>\n",
       "    <tr>\n",
       "      <th>1</th>\n",
       "      <td>clip_5be3c9a8e.wav</td>\n",
       "      <td>_unknown_</td>\n",
       "      <td>0.914128</td>\n",
       "    </tr>\n",
       "    <tr>\n",
       "      <th>2</th>\n",
       "      <td>clip_642304206.wav</td>\n",
       "      <td>_unknown_</td>\n",
       "      <td>0.717890</td>\n",
       "    </tr>\n",
       "    <tr>\n",
       "      <th>3</th>\n",
       "      <td>clip_16270b7c9.wav</td>\n",
       "      <td>_silence_</td>\n",
       "      <td>0.988114</td>\n",
       "    </tr>\n",
       "    <tr>\n",
       "      <th>4</th>\n",
       "      <td>clip_daf840327.wav</td>\n",
       "      <td>stop</td>\n",
       "      <td>0.992268</td>\n",
       "    </tr>\n",
       "  </tbody>\n",
       "</table>\n",
       "</div>"
      ],
      "text/plain": [
       "                fname      label     score\n",
       "0  clip_227de25a2.wav         go  0.545376\n",
       "1  clip_5be3c9a8e.wav  _unknown_  0.914128\n",
       "2  clip_642304206.wav  _unknown_  0.717890\n",
       "3  clip_16270b7c9.wav  _silence_  0.988114\n",
       "4  clip_daf840327.wav       stop  0.992268"
      ]
     },
     "execution_count": 7,
     "metadata": {},
     "output_type": "execute_result"
    }
   ],
   "source": [
    "import pandas as pd\n",
    "\n",
    "predictions = pd.DataFrame(rows, columns=['fname', 'label', 'score'])\n",
    "predictions.head()"
   ]
  },
  {
   "cell_type": "code",
   "execution_count": 8,
   "metadata": {},
   "outputs": [
    {
     "data": {
      "text/plain": [
       "fname    158538\n",
       "label    158538\n",
       "score    158538\n",
       "dtype: int64"
      ]
     },
     "execution_count": 8,
     "metadata": {},
     "output_type": "execute_result"
    }
   ],
   "source": [
    "predictions.count()"
   ]
  },
  {
   "cell_type": "markdown",
   "metadata": {},
   "source": [
    "Listen to some sample clips..."
   ]
  },
  {
   "cell_type": "code",
   "execution_count": 10,
   "metadata": {},
   "outputs": [
    {
     "data": {
      "text/html": [
       "<div>\n",
       "<style>\n",
       "    .dataframe thead tr:only-child th {\n",
       "        text-align: right;\n",
       "    }\n",
       "\n",
       "    .dataframe thead th {\n",
       "        text-align: left;\n",
       "    }\n",
       "\n",
       "    .dataframe tbody tr th {\n",
       "        vertical-align: top;\n",
       "    }\n",
       "</style>\n",
       "<table border=\"1\" class=\"dataframe\">\n",
       "  <thead>\n",
       "    <tr style=\"text-align: right;\">\n",
       "      <th></th>\n",
       "      <th>fname</th>\n",
       "      <th>label</th>\n",
       "      <th>score</th>\n",
       "    </tr>\n",
       "  </thead>\n",
       "  <tbody>\n",
       "    <tr>\n",
       "      <th>0</th>\n",
       "      <td>clip_8c4de2547.wav</td>\n",
       "      <td>off</td>\n",
       "      <td>0.101314</td>\n",
       "    </tr>\n",
       "    <tr>\n",
       "      <th>1</th>\n",
       "      <td>clip_def08974c.wav</td>\n",
       "      <td>down</td>\n",
       "      <td>0.102303</td>\n",
       "    </tr>\n",
       "    <tr>\n",
       "      <th>2</th>\n",
       "      <td>clip_8748fe6c6.wav</td>\n",
       "      <td>up</td>\n",
       "      <td>0.102696</td>\n",
       "    </tr>\n",
       "    <tr>\n",
       "      <th>3</th>\n",
       "      <td>clip_5af16d1b6.wav</td>\n",
       "      <td>down</td>\n",
       "      <td>0.103446</td>\n",
       "    </tr>\n",
       "    <tr>\n",
       "      <th>4</th>\n",
       "      <td>clip_f2137f239.wav</td>\n",
       "      <td>up</td>\n",
       "      <td>0.105274</td>\n",
       "    </tr>\n",
       "  </tbody>\n",
       "</table>\n",
       "</div>"
      ],
      "text/plain": [
       "                fname label     score\n",
       "0  clip_8c4de2547.wav   off  0.101314\n",
       "1  clip_def08974c.wav  down  0.102303\n",
       "2  clip_8748fe6c6.wav    up  0.102696\n",
       "3  clip_5af16d1b6.wav  down  0.103446\n",
       "4  clip_f2137f239.wav    up  0.105274"
      ]
     },
     "execution_count": 10,
     "metadata": {},
     "output_type": "execute_result"
    }
   ],
   "source": [
    "from pandasql import sqldf\n",
    "pysqldf = lambda q: sqldf(q, globals())\n",
    "least_confident_predictions = pysqldf(\"SELECT * FROM predictions ORDER BY score ASC\")\n",
    "least_confident_predictions.head()"
   ]
  },
  {
   "cell_type": "code",
   "execution_count": 21,
   "metadata": {},
   "outputs": [],
   "source": [
    "import IPython.display as ipd\n",
    "from scipy.io import wavfile\n",
    "\n",
    "sample_rate, wav_file_data = wavfile.read(test_path + '/' + predictions['fname'][2])"
   ]
  },
  {
   "cell_type": "code",
   "execution_count": 22,
   "metadata": {},
   "outputs": [
    {
     "data": {
      "text/html": [
       "\n",
       "                <audio controls=\"controls\" >\n",
       "                    <source src=\"data:audio/wav;base64,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\" type=\"audio/wav\" />\n",
       "                    Your browser does not support the audio element.\n",
       "                </audio>\n",
       "              "
      ],
      "text/plain": [
       "<IPython.lib.display.Audio object>"
      ]
     },
     "execution_count": 22,
     "metadata": {},
     "output_type": "execute_result"
    }
   ],
   "source": [
    "ipd.Audio(wav_file_data, rate=sample_rate)"
   ]
  },
  {
   "cell_type": "markdown",
   "metadata": {},
   "source": [
    "# Distribution of Prediction Confidence"
   ]
  },
  {
   "cell_type": "code",
   "execution_count": 26,
   "metadata": {},
   "outputs": [
    {
     "data": {
      "text/plain": [
       "array([[<matplotlib.axes._subplots.AxesSubplot object at 0x7ff1f79f6cf8>]], dtype=object)"
      ]
     },
     "execution_count": 26,
     "metadata": {},
     "output_type": "execute_result"
    },
    {
     "data": {
      "image/png": "[encoded data removed]",
      "text/plain": [
       "<matplotlib.figure.Figure at 0x7ff1f7a5d7f0>"
      ]
     },
     "metadata": {},
     "output_type": "display_data"
    }
   ],
   "source": [
    "%matplotlib inline\n",
    "\n",
    "predictions.hist(column='score', bins=100)"
   ]
  },
  {
   "cell_type": "markdown",
   "metadata": {},
   "source": [
    "# Save to CSV"
   ]
  },
  {
   "cell_type": "code",
   "execution_count": 31,
   "metadata": {},
   "outputs": [],
   "source": [
    "submission_sql_string = \"\"\"\n",
    "SELECT fname,\n",
    "       CASE WHEN label = '_unknown_' THEN 'unknown'\n",
    "            WHEN label = '_silence_' THEN 'silence'\n",
    "            ELSE label \n",
    "        END AS label\n",
    "  FROM predictions\n",
    "\"\"\"\n",
    "submission = pysqldf(submission_sql_string)"
   ]
  },
  {
   "cell_type": "markdown",
   "metadata": {},
   "source": [
    "Check for unexpected labels..."
   ]
  },
  {
   "cell_type": "code",
   "execution_count": 33,
   "metadata": {},
   "outputs": [
    {
     "data": {
      "text/html": [
       "<div>\n",
       "<style>\n",
       "    .dataframe thead tr:only-child th {\n",
       "        text-align: right;\n",
       "    }\n",
       "\n",
       "    .dataframe thead th {\n",
       "        text-align: left;\n",
       "    }\n",
       "\n",
       "    .dataframe tbody tr th {\n",
       "        vertical-align: top;\n",
       "    }\n",
       "</style>\n",
       "<table border=\"1\" class=\"dataframe\">\n",
       "  <thead>\n",
       "    <tr style=\"text-align: right;\">\n",
       "      <th></th>\n",
       "      <th>fname</th>\n",
       "      <th>label</th>\n",
       "    </tr>\n",
       "  </thead>\n",
       "  <tbody>\n",
       "  </tbody>\n",
       "</table>\n",
       "</div>"
      ],
      "text/plain": [
       "Empty DataFrame\n",
       "Columns: [fname, label]\n",
       "Index: []"
      ]
     },
     "execution_count": 33,
     "metadata": {},
     "output_type": "execute_result"
    }
   ],
   "source": [
    "unexpected_labels_sql_string = \"\"\"\n",
    "SELECT * \n",
    "  FROM submission\n",
    " WHERE label NOT IN ('unknown', \n",
    "                     'silence', \n",
    "                     'yes', \n",
    "                     'no', \n",
    "                     'up', \n",
    "                     'down', \n",
    "                     'left', \n",
    "                     'right', \n",
    "                     'on', \n",
    "                     'off', \n",
    "                     'stop', \n",
    "                     'go')\n",
    "\"\"\"\n",
    "pysqldf(unexpected_labels_sql_string).head()"
   ]
  },
  {
   "cell_type": "code",
   "execution_count": 34,
   "metadata": {},
   "outputs": [],
   "source": [
    "submission.to_csv('submission.csv', index=False)"
   ]
  }
 ],
 "metadata": {
  "kernelspec": {
   "display_name": "Python 3",
   "language": "python",
   "name": "python3"
  },
  "language_info": {
   "codemirror_mode": {
    "name": "ipython",
    "version": 3
   },
   "file_extension": ".py",
   "mimetype": "text/x-python",
   "name": "python",
   "nbconvert_exporter": "python",
   "pygments_lexer": "ipython3",
   "version": "3.6.3"
  }
 },
 "nbformat": 4,
 "nbformat_minor": 2
}

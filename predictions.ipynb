{
 "cells": [
  {
   "cell_type": "code",
   "execution_count": 1,
   "metadata": {},
   "outputs": [],
   "source": [
    "import tensorflow as tf"
   ]
  },
  {
   "cell_type": "markdown",
   "metadata": {},
   "source": [
    "See `tensorflow/examples/speech_commands/label_wav.py`"
   ]
  },
  {
   "cell_type": "code",
   "execution_count": 2,
   "metadata": {},
   "outputs": [],
   "source": [
    "from tensorflow.contrib.framework.python.ops import audio_ops as contrib_audio\n",
    "\n",
    "def load_graph(filename):\n",
    "  \"\"\"Unpersists graph from file as default graph.\"\"\"\n",
    "  with tf.gfile.FastGFile(filename, 'rb') as f:\n",
    "    graph_def = tf.GraphDef()\n",
    "    graph_def.ParseFromString(f.read())\n",
    "    tf.import_graph_def(graph_def, name='')\n",
    "\n",
    "load_graph('frozen_graph.pb')"
   ]
  },
  {
   "cell_type": "code",
   "execution_count": 3,
   "metadata": {},
   "outputs": [],
   "source": [
    "def load_labels(filename):\n",
    "  \"\"\"Read in labels, one label per line.\"\"\"\n",
    "  return [line.rstrip() for line in tf.gfile.GFile(filename)]\n",
    "\n",
    "model_name = 'kaggle'\n",
    "labels_filename = model_name + '_labels.txt'\n",
    "labels_filepath = 'data/speech_commands_train/' + labels_filename\n",
    "labels = load_labels(labels_filepath)"
   ]
  },
  {
   "cell_type": "code",
   "execution_count": null,
   "metadata": {},
   "outputs": [],
   "source": [
    "import os\n",
    "\n",
    "def predict(wav_data, sess, labels, input_layer_name='wav_data:0', output_layer_name='labels_softmax:0', num_top_predictions=1):\n",
    "    softmax_tensor = sess.graph.get_tensor_by_name(output_layer_name)\n",
    "    predictions, = sess.run(softmax_tensor, {input_layer_name: wav_data})\n",
    "\n",
    "    top_k = predictions.argsort()[-num_top_predictions:][::-1]\n",
    "    return [(labels[node_id], predictions[node_id]) for node_id in top_k]  # list of (label, score)\n",
    "\n",
    "test_path = 'data/test/audio'\n",
    "\n",
    "rows = []\n",
    "with tf.Session() as sess:\n",
    "    for wav in os.listdir(test_path):\n",
    "        with open(test_path + '/' + wav, 'rb') as wav_file:\n",
    "            wav_data = wav_file.read()\n",
    "            top_prediction = predict(wav_data, sess, labels)[0]\n",
    "            label, score = top_prediction\n",
    "            new_row = [wav, label, score]\n",
    "            rows.append(new_row)"
   ]
  },
  {
   "cell_type": "code",
   "execution_count": 5,
   "metadata": {},
   "outputs": [
    {
     "data": {
      "text/html": [
       "<div>\n",
       "<style>\n",
       "    .dataframe thead tr:only-child th {\n",
       "        text-align: right;\n",
       "    }\n",
       "\n",
       "    .dataframe thead th {\n",
       "        text-align: left;\n",
       "    }\n",
       "\n",
       "    .dataframe tbody tr th {\n",
       "        vertical-align: top;\n",
       "    }\n",
       "</style>\n",
       "<table border=\"1\" class=\"dataframe\">\n",
       "  <thead>\n",
       "    <tr style=\"text-align: right;\">\n",
       "      <th></th>\n",
       "      <th>fname</th>\n",
       "      <th>label</th>\n",
       "      <th>score</th>\n",
       "    </tr>\n",
       "  </thead>\n",
       "  <tbody>\n",
       "    <tr>\n",
       "      <th>0</th>\n",
       "      <td>clip_227de25a2.wav</td>\n",
       "      <td>_unknown_</td>\n",
       "      <td>0.696491</td>\n",
       "    </tr>\n",
       "    <tr>\n",
       "      <th>1</th>\n",
       "      <td>clip_5be3c9a8e.wav</td>\n",
       "      <td>_unknown_</td>\n",
       "      <td>0.994883</td>\n",
       "    </tr>\n",
       "    <tr>\n",
       "      <th>2</th>\n",
       "      <td>clip_642304206.wav</td>\n",
       "      <td>_unknown_</td>\n",
       "      <td>0.985938</td>\n",
       "    </tr>\n",
       "    <tr>\n",
       "      <th>3</th>\n",
       "      <td>clip_16270b7c9.wav</td>\n",
       "      <td>_silence_</td>\n",
       "      <td>0.999974</td>\n",
       "    </tr>\n",
       "    <tr>\n",
       "      <th>4</th>\n",
       "      <td>clip_daf840327.wav</td>\n",
       "      <td>stop</td>\n",
       "      <td>0.999995</td>\n",
       "    </tr>\n",
       "  </tbody>\n",
       "</table>\n",
       "</div>"
      ],
      "text/plain": [
       "                fname      label     score\n",
       "0  clip_227de25a2.wav  _unknown_  0.696491\n",
       "1  clip_5be3c9a8e.wav  _unknown_  0.994883\n",
       "2  clip_642304206.wav  _unknown_  0.985938\n",
       "3  clip_16270b7c9.wav  _silence_  0.999974\n",
       "4  clip_daf840327.wav       stop  0.999995"
      ]
     },
     "execution_count": 5,
     "metadata": {},
     "output_type": "execute_result"
    }
   ],
   "source": [
    "import pandas as pd\n",
    "\n",
    "predictions = pd.DataFrame(rows, columns=['fname', 'label', 'score'])\n",
    "predictions.head()"
   ]
  },
  {
   "cell_type": "code",
   "execution_count": 6,
   "metadata": {},
   "outputs": [
    {
     "data": {
      "text/plain": [
       "fname    158538\n",
       "label    158538\n",
       "score    158538\n",
       "dtype: int64"
      ]
     },
     "execution_count": 6,
     "metadata": {},
     "output_type": "execute_result"
    }
   ],
   "source": [
    "predictions.count()"
   ]
  },
  {
   "cell_type": "markdown",
   "metadata": {},
   "source": [
    "Listen to some sample clips..."
   ]
  },
  {
   "cell_type": "code",
   "execution_count": 7,
   "metadata": {},
   "outputs": [
    {
     "data": {
      "text/html": [
       "<div>\n",
       "<style>\n",
       "    .dataframe thead tr:only-child th {\n",
       "        text-align: right;\n",
       "    }\n",
       "\n",
       "    .dataframe thead th {\n",
       "        text-align: left;\n",
       "    }\n",
       "\n",
       "    .dataframe tbody tr th {\n",
       "        vertical-align: top;\n",
       "    }\n",
       "</style>\n",
       "<table border=\"1\" class=\"dataframe\">\n",
       "  <thead>\n",
       "    <tr style=\"text-align: right;\">\n",
       "      <th></th>\n",
       "      <th>fname</th>\n",
       "      <th>label</th>\n",
       "      <th>score</th>\n",
       "    </tr>\n",
       "  </thead>\n",
       "  <tbody>\n",
       "    <tr>\n",
       "      <th>0</th>\n",
       "      <td>clip_88daf5f16.wav</td>\n",
       "      <td>down</td>\n",
       "      <td>0.112687</td>\n",
       "    </tr>\n",
       "    <tr>\n",
       "      <th>1</th>\n",
       "      <td>clip_e65c828d0.wav</td>\n",
       "      <td>_silence_</td>\n",
       "      <td>0.120348</td>\n",
       "    </tr>\n",
       "    <tr>\n",
       "      <th>2</th>\n",
       "      <td>clip_6a8d4af29.wav</td>\n",
       "      <td>left</td>\n",
       "      <td>0.120443</td>\n",
       "    </tr>\n",
       "    <tr>\n",
       "      <th>3</th>\n",
       "      <td>clip_0bb104623.wav</td>\n",
       "      <td>up</td>\n",
       "      <td>0.123557</td>\n",
       "    </tr>\n",
       "    <tr>\n",
       "      <th>4</th>\n",
       "      <td>clip_5b5c9a12d.wav</td>\n",
       "      <td>go</td>\n",
       "      <td>0.125660</td>\n",
       "    </tr>\n",
       "  </tbody>\n",
       "</table>\n",
       "</div>"
      ],
      "text/plain": [
       "                fname      label     score\n",
       "0  clip_88daf5f16.wav       down  0.112687\n",
       "1  clip_e65c828d0.wav  _silence_  0.120348\n",
       "2  clip_6a8d4af29.wav       left  0.120443\n",
       "3  clip_0bb104623.wav         up  0.123557\n",
       "4  clip_5b5c9a12d.wav         go  0.125660"
      ]
     },
     "execution_count": 7,
     "metadata": {},
     "output_type": "execute_result"
    }
   ],
   "source": [
    "from pandasql import sqldf\n",
    "pysqldf = lambda q: sqldf(q, globals())\n",
    "least_confident_predictions = pysqldf(\"SELECT * FROM predictions ORDER BY score ASC\")\n",
    "least_confident_predictions.head()"
   ]
  },
  {
   "cell_type": "code",
   "execution_count": 8,
   "metadata": {},
   "outputs": [],
   "source": [
    "import IPython.display as ipd\n",
    "from scipy.io import wavfile\n",
    "\n",
    "sample_rate, wav_file_data = wavfile.read(test_path + '/' + predictions['fname'][0])"
   ]
  },
  {
   "cell_type": "code",
   "execution_count": 9,
   "metadata": {},
   "outputs": [
    {
     "data": {
      "text/html": [
       "\n",
       "                <audio controls=\"controls\" >\n",
       "                    <source src=\"data:audio/wav;base64,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\" type=\"audio/wav\" />\n",
       "                    Your browser does not support the audio element.\n",
       "                </audio>\n",
       "              "
      ],
      "text/plain": [
       "<IPython.lib.display.Audio object>"
      ]
     },
     "execution_count": 9,
     "metadata": {},
     "output_type": "execute_result"
    }
   ],
   "source": [
    "ipd.Audio(wav_file_data, rate=sample_rate)"
   ]
  },
  {
   "cell_type": "markdown",
   "metadata": {},
   "source": [
    "# Distribution of Prediction Confidence"
   ]
  },
  {
   "cell_type": "code",
   "execution_count": 10,
   "metadata": {},
   "outputs": [
    {
     "data": {
      "text/plain": [
       "array([[<matplotlib.axes._subplots.AxesSubplot object at 0x7f24b91525f8>]], dtype=object)"
      ]
     },
     "execution_count": 10,
     "metadata": {},
     "output_type": "execute_result"
    },
    {
     "data": {
      "image/png": "[encoded data removed]",
      "text/plain": [
       "<matplotlib.figure.Figure at 0x7f24ba122208>"
      ]
     },
     "metadata": {},
     "output_type": "display_data"
    }
   ],
   "source": [
    "%matplotlib inline\n",
    "\n",
    "predictions.hist(column='score', bins=100)"
   ]
  },
  {
   "cell_type": "markdown",
   "metadata": {},
   "source": [
    "# Save to CSV"
   ]
  },
  {
   "cell_type": "code",
   "execution_count": 11,
   "metadata": {},
   "outputs": [],
   "source": [
    "submission_sql_string = \"\"\"\n",
    "SELECT fname,\n",
    "       CASE WHEN label = '_unknown_' THEN 'unknown'\n",
    "            WHEN label = '_silence_' THEN 'silence'\n",
    "            ELSE label \n",
    "        END AS label\n",
    "  FROM predictions\n",
    "\"\"\"\n",
    "submission = pysqldf(submission_sql_string)"
   ]
  },
  {
   "cell_type": "markdown",
   "metadata": {},
   "source": [
    "Check for unexpected labels..."
   ]
  },
  {
   "cell_type": "code",
   "execution_count": 12,
   "metadata": {},
   "outputs": [
    {
     "data": {
      "text/html": [
       "<div>\n",
       "<style>\n",
       "    .dataframe thead tr:only-child th {\n",
       "        text-align: right;\n",
       "    }\n",
       "\n",
       "    .dataframe thead th {\n",
       "        text-align: left;\n",
       "    }\n",
       "\n",
       "    .dataframe tbody tr th {\n",
       "        vertical-align: top;\n",
       "    }\n",
       "</style>\n",
       "<table border=\"1\" class=\"dataframe\">\n",
       "  <thead>\n",
       "    <tr style=\"text-align: right;\">\n",
       "      <th></th>\n",
       "      <th>fname</th>\n",
       "      <th>label</th>\n",
       "    </tr>\n",
       "  </thead>\n",
       "  <tbody>\n",
       "  </tbody>\n",
       "</table>\n",
       "</div>"
      ],
      "text/plain": [
       "Empty DataFrame\n",
       "Columns: [fname, label]\n",
       "Index: []"
      ]
     },
     "execution_count": 12,
     "metadata": {},
     "output_type": "execute_result"
    }
   ],
   "source": [
    "unexpected_labels_sql_string = \"\"\"\n",
    "SELECT * \n",
    "  FROM submission\n",
    " WHERE label NOT IN ('unknown', \n",
    "                     'silence', \n",
    "                     'yes', \n",
    "                     'no', \n",
    "                     'up', \n",
    "                     'down', \n",
    "                     'left', \n",
    "                     'right', \n",
    "                     'on', \n",
    "                     'off', \n",
    "                     'stop', \n",
    "                     'go')\n",
    "\"\"\"\n",
    "pysqldf(unexpected_labels_sql_string).head()"
   ]
  },
  {
   "cell_type": "code",
   "execution_count": 13,
   "metadata": {},
   "outputs": [],
   "source": [
    "submission.to_csv('submission.csv', index=False)"
   ]
  }
 ],
 "metadata": {
  "kernelspec": {
   "display_name": "Python 3",
   "language": "python",
   "name": "python3"
  },
  "language_info": {
   "codemirror_mode": {
    "name": "ipython",
    "version": 3
   },
   "file_extension": ".py",
   "mimetype": "text/x-python",
   "name": "python",
   "nbconvert_exporter": "python",
   "pygments_lexer": "ipython3",
   "version": "3.6.3"
  }
 },
 "nbformat": 4,
 "nbformat_minor": 2
}
